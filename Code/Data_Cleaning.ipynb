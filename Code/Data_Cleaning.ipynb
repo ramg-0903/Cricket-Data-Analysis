{
 "cells": [
  {
   "cell_type": "code",
   "execution_count": 1,
   "id": "e6c5ce9b",
   "metadata": {},
   "outputs": [],
   "source": [
    "import pandas as pd\n",
    "import json"
   ]
  },
  {
   "cell_type": "markdown",
   "id": "8d1dc0be",
   "metadata": {},
   "source": [
    "### Processing Match Summaries"
   ]
  },
  {
   "cell_type": "code",
   "execution_count": 2,
   "id": "ae973a81",
   "metadata": {},
   "outputs": [],
   "source": [
    "with open(r\"C:\\Users\\Ram\\Desktop\\Code\\Projects\\Cricket Data Analysis\\Data\\match_summaries.json\") as f:\n",
    "    data=json.load(f)\n",
    "df = pd.DataFrame(data)\n",
    "#df.shape"
   ]
  },
  {
   "cell_type": "code",
   "execution_count": 3,
   "id": "50473afa",
   "metadata": {},
   "outputs": [],
   "source": [
    "df.rename({'Scorecard' : 'match_id'} , axis=1 , inplace=True)\n",
    "#df.head()\n"
   ]
  },
  {
   "cell_type": "code",
   "execution_count": 4,
   "id": "00d9a50c",
   "metadata": {},
   "outputs": [],
   "source": [
    "for i , row in df.iterrows():\n",
    "    number = 48-i\n",
    "    number = str(number)\n",
    "    row['Match Date'] = number\n",
    "df.rename({'Match Date' : 'match_number'} , axis=1 , inplace=True)\n",
    "#df.head()"
   ]
  },
  {
   "cell_type": "code",
   "execution_count": 5,
   "id": "e286bed9",
   "metadata": {},
   "outputs": [],
   "source": [
    "df.to_csv('matchinfo_processed.csv', index=False)  "
   ]
  },
  {
   "cell_type": "markdown",
   "id": "0d9050b5",
   "metadata": {},
   "source": [
    "### Batting Summary"
   ]
  },
  {
   "cell_type": "code",
   "execution_count": 6,
   "id": "bc05d282",
   "metadata": {},
   "outputs": [],
   "source": [
    "with open(r\"C:\\Users\\Ram\\Desktop\\Code\\Projects\\Cricket Data Analysis\\Data\\batting_summary.json\") as f:\n",
    "    data=json.load(f)\n",
    "counter=1\n",
    "arr = data\n",
    "   \n",
    "for i , row in enumerate(arr):\n",
    "    \n",
    "    if(i==len(arr)-1):\n",
    "        row.update({\"Match Number\":f\"{counter}\"})\n",
    "    \n",
    "    elif(row['Match'] == arr[i+1]['Match'] ):\n",
    "        row.update({\"Match Number\":f\"{counter}\"})\n",
    "    else : \n",
    "        row.update({\"Match Number\":f\"{counter}\"})\n",
    "        counter+=1\n",
    "\n",
    "#df.head()"
   ]
  },
  {
   "cell_type": "code",
   "execution_count": 7,
   "id": "487a1633",
   "metadata": {},
   "outputs": [],
   "source": [
    "for i in arr:\n",
    "    if (i['Dismissal'] == 'not out'): continue\n",
    "    else :\n",
    "        i['Dismissal'] = \"out\"\n",
    "df = pd.DataFrame(arr)\n"
   ]
  },
  {
   "cell_type": "code",
   "execution_count": 8,
   "id": "8cc0ab1e",
   "metadata": {},
   "outputs": [],
   "source": [
    "df.to_csv('batting_processed.csv', index=False)  "
   ]
  },
  {
   "cell_type": "markdown",
   "id": "d775b0e2",
   "metadata": {},
   "source": [
    "### Bowling Summary"
   ]
  },
  {
   "cell_type": "code",
   "execution_count": 9,
   "id": "6cb62606",
   "metadata": {},
   "outputs": [],
   "source": [
    "with open(r\"C:\\Users\\Ram\\Desktop\\Code\\Projects\\Cricket Data Analysis\\Data\\bowling_summary.json\") as f:\n",
    "    data=json.load(f)"
   ]
  },
  {
   "cell_type": "code",
   "execution_count": 10,
   "id": "cab6d65a",
   "metadata": {},
   "outputs": [],
   "source": [
    "counter=1\n",
    "arr = data\n",
    "   \n",
    "for i , row in enumerate(arr):\n",
    "    \n",
    "    if(i==len(arr)-1):\n",
    "        row.update({\"Match Number\":f\"{counter}\"})\n",
    "    \n",
    "    elif(row['Match'] == arr[i+1]['Match'] ):\n",
    "        row.update({\"Match Number\":f\"{counter}\"})\n",
    "    else : \n",
    "        row.update({\"Match Number\":f\"{counter}\"})\n",
    "        counter+=1\n",
    "\n",
    "df = pd.DataFrame(arr)"
   ]
  },
  {
   "cell_type": "code",
   "execution_count": 11,
   "id": "3126fbea",
   "metadata": {},
   "outputs": [],
   "source": [
    "df.to_csv('bowling_processed.csv', index=False) "
   ]
  },
  {
   "cell_type": "markdown",
   "id": "ce7a32da",
   "metadata": {},
   "source": [
    "### Player Information Summary"
   ]
  },
  {
   "cell_type": "code",
   "execution_count": 3,
   "id": "0f88b69f",
   "metadata": {},
   "outputs": [],
   "source": [
    "with open(r\"C:\\Users\\Ram\\Desktop\\Code\\Projects\\Cricket Data Analysis\\Data\\Raw\\player_info.json\") as f:\n",
    "    data=json.load(f)\n",
    "arr= data\n",
    "df = pd.DataFrame(arr)"
   ]
  },
  {
   "cell_type": "code",
   "execution_count": 4,
   "id": "7ad8d8bd",
   "metadata": {},
   "outputs": [],
   "source": [
    "df.to_csv('playerinfo_processed.csv', index=False) "
   ]
  }
 ],
 "metadata": {
  "kernelspec": {
   "display_name": "Python 3 (ipykernel)",
   "language": "python",
   "name": "python3"
  },
  "language_info": {
   "codemirror_mode": {
    "name": "ipython",
    "version": 3
   },
   "file_extension": ".py",
   "mimetype": "text/x-python",
   "name": "python",
   "nbconvert_exporter": "python",
   "pygments_lexer": "ipython3",
   "version": "3.11.5"
  }
 },
 "nbformat": 4,
 "nbformat_minor": 5
}
