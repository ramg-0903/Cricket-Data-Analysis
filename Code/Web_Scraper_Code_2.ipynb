{
 "cells": [
  {
   "cell_type": "code",
   "execution_count": 1,
   "id": "85ea4c28",
   "metadata": {},
   "outputs": [],
   "source": [
    "import requests as rq\n",
    "from bs4 import BeautifulSoup\n",
    "import json\n",
    "import csv"
   ]
  },
  {
   "cell_type": "code",
   "execution_count": 2,
   "id": "a8d4a665",
   "metadata": {},
   "outputs": [],
   "source": [
    "#fetching the website\n",
    "def get_link(link):\n",
    "    web = rq.get(link)\n",
    "    #print(web)\n",
    "    soup = BeautifulSoup(web.content , \"html.parser\")\n",
    "    #print(soup)\n",
    "    return soup"
   ]
  },
  {
   "cell_type": "code",
   "execution_count": 3,
   "id": "67b83683",
   "metadata": {},
   "outputs": [],
   "source": [
    "def scrape(link , country):\n",
    "    \n",
    "    soup=get_link(link)\n",
    "\n",
    "    desc=['Name',  'Batting' , 'Bowling','Age','Position' , 'Team']\n",
    "    b=soup.find_all('div' , class_=\"ds-relative ds-flex ds-flex-row ds-space-x-4 ds-p-3\")\n",
    "    data=[]\n",
    "    number=0\n",
    "\n",
    "    for i in b:\n",
    "        row_data={}\n",
    "        for j in i.find_all('span' , class_='ds-text-compact-s ds-font-bold ds-text-typo ds-underline ds-decoration-ui-stroke hover:ds-text-typo-primary hover:ds-decoration-ui-stroke-primary ds-block ds-cursor-pointer'):\n",
    "            row_data[desc[0]]=j.get_text()\n",
    "        for j in (i.find_all(\"div\" , class_=\"ds-flex ds-items-center ds-space-x-1\")):\n",
    "            for number,k in enumerate((j.find_all('span' , class_='ds-text-compact-xxs ds-font-bold'))):\n",
    "                row_data[desc[number+3]] = k.get_text()\n",
    "        for j in i.find_all('div' , class_=\"ds-flex ds-items-start ds-space-x-1\"):\n",
    "            for k in (j.find_all('span' , class_='ds-text-compact-xxs ds-font-bold')):\n",
    "                row_data[desc[(number%2)+1]] = k.get_text()\n",
    "                number+=1\n",
    "        for j in i.find_all(\"p\" ,class_=\"ds-text-tight-s ds-font-regular ds-mb-2 ds-mt-1\"):\n",
    "            row_data[desc[4]]=j.get_text()\n",
    "        \n",
    "        row_data[desc[5]] = country\n",
    "        data.append(row_data)\n",
    "    \n",
    "    info.append(data)\n",
    "        "
   ]
  },
  {
   "cell_type": "code",
   "execution_count": 4,
   "id": "e0c7f7e3",
   "metadata": {},
   "outputs": [],
   "source": [
    "info = []\n",
    "links = {}  #manually adding the links to the squad info\n",
    "links.update({'New Zealand':\"https://www.espncricinfo.com/series/icc-cricket-world-cup-2023-24-1367856/new-zealand-squad-1397557/series-squads\"})\n",
    "links.update({'Afghanistan':\"https://www.espncricinfo.com/series/icc-cricket-world-cup-2023-24-1367856/afghanistan-squad-1398042/series-squads\"})\n",
    "links.update({'Australia':\"https://www.espncricinfo.com/series/icc-cricket-world-cup-2023-24-1367856/australia-squad-1396545/series-squads\"})\n",
    "links.update({'Bangladesh':\"https://www.espncricinfo.com/series/icc-cricket-world-cup-2023-24-1367856/bangladesh-squad-1400121/series-squads\"})\n",
    "links.update({'England':\"https://www.espncricinfo.com/series/icc-cricket-world-cup-2023-24-1367856/england-squad-1396558/series-squads\"})\n",
    "links.update({'India':\"https://www.espncricinfo.com/series/icc-cricket-world-cup-2023-24-1367856/india-squad-1396344/series-squads\"})\n",
    "links.update({'Netherlands':\"https://www.espncricinfo.com/series/icc-cricket-world-cup-2023-24-1367856/netherlands-squad-1396753/series-squads\"})\n",
    "links.update({'Pakistan':\"https://www.espncricinfo.com/series/icc-cricket-world-cup-2023-24-1367856/pakistan-squad-1399493/series-squads\"})\n",
    "links.update({'South Africa':\"https://www.espncricinfo.com/series/icc-cricket-world-cup-2023-24-1367856/south-africa-squad-1396372/series-squads\"})\n",
    "links.update({'Sri Lanka':\"https://www.espncricinfo.com/series/icc-cricket-world-cup-2023-24-1367856/sri-lanka-squad-1400061/series-squads\"})"
   ]
  },
  {
   "cell_type": "code",
   "execution_count": 5,
   "id": "e0a5073c",
   "metadata": {},
   "outputs": [],
   "source": [
    "#for getting information pertaining to every player\n",
    "for i in links:\n",
    "    scrape(links[i] , i)\n",
    "    \n",
    "with open(r\"C:\\Users\\Ram\\Desktop\\info.json\", \"w\") as json_file:\n",
    "        json.dump(info, json_file, indent=4)"
   ]
  },
  {
   "cell_type": "code",
   "execution_count": 6,
   "id": "22c2ca31",
   "metadata": {},
   "outputs": [],
   "source": [
    "#for getting the links to each player's profile\n",
    "url = 'https://www.sportskeeda.com/cricket/cricket-world-cup-team-squad'\n",
    "soup = get_link(url)\n",
    "links=[]\n",
    "names=[]\n",
    "text = soup.find_all(\"table\")\n",
    "\n",
    "for table in text:\n",
    "    \n",
    "    for i , rows in enumerate(table.find_all('tr')): \n",
    "        \n",
    "        if(i==0):\n",
    "            continue\n",
    "        name=rows.find('a').get_text()\n",
    "        link=(\"https://www.sportskeeda.com\" + rows.find('a').get('href'))\n",
    "        links.append(link)\n",
    "        names.append(name)"
   ]
  },
  {
   "cell_type": "code",
   "execution_count": 7,
   "id": "9bea25fd",
   "metadata": {},
   "outputs": [],
   "source": [
    "#for getting the player image links from the player's profile\n",
    "updated_links = []\n",
    "\n",
    "for link in links:\n",
    "    soup = get_link(link)\n",
    "    img_tag = soup.find('img', width='134', height='134')\n",
    "\n",
    "    fallbacks_data = img_tag.get('data-img-fallbacks')\n",
    "\n",
    "    # Splitting the values by pipe (|) separator and get the HTTPS link\n",
    "    https_link = fallbacks_data.split('|')[0]\n",
    "\n",
    "    updated_links.append(https_link)"
   ]
  },
  {
   "cell_type": "code",
   "execution_count": 8,
   "id": "a93b35ab",
   "metadata": {},
   "outputs": [],
   "source": [
    "#storing all the player and url pairs to an array\n",
    "final=[]\n",
    "for i in range(len(names)):\n",
    "    dict={}\n",
    "    dict.update({\"name\":f\"{names[i]}\"})\n",
    "    dict.update({\"link\":f\"{links[i]}\"})\n",
    "    final.append(dict)"
   ]
  },
  {
   "cell_type": "code",
   "execution_count": 9,
   "id": "99c899f2",
   "metadata": {},
   "outputs": [],
   "source": [
    "headers = final[0].keys()#appending the headers of the file\n",
    "\n",
    "#CSV file\n",
    "with open('data.csv', 'w', newline='') as csv_file:\n",
    "    writer = csv.DictWriter(csv_file, fieldnames=headers)\n",
    "    writer.writeheader()\n",
    "    writer.writerows(final)"
   ]
  },
  {
   "cell_type": "code",
   "execution_count": null,
   "id": "53790808",
   "metadata": {},
   "outputs": [],
   "source": []
  }
 ],
 "metadata": {
  "kernelspec": {
   "display_name": "Python 3 (ipykernel)",
   "language": "python",
   "name": "python3"
  },
  "language_info": {
   "codemirror_mode": {
    "name": "ipython",
    "version": 3
   },
   "file_extension": ".py",
   "mimetype": "text/x-python",
   "name": "python",
   "nbconvert_exporter": "python",
   "pygments_lexer": "ipython3",
   "version": "3.11.5"
  }
 },
 "nbformat": 4,
 "nbformat_minor": 5
}
